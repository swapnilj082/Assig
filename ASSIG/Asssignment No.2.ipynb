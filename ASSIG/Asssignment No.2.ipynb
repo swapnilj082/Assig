{
 "cells": [
  {
   "cell_type": "markdown",
   "id": "4b7864af",
   "metadata": {},
   "source": [
    "Assignment No.2(1)"
   ]
  },
  {
   "cell_type": "markdown",
   "id": "0366bd4f",
   "metadata": {},
   "source": [
    "#Que No.1"
   ]
  },
  {
   "cell_type": "code",
   "execution_count": 1,
   "id": "001a312b",
   "metadata": {},
   "outputs": [],
   "source": [
    "import pandas as pd\n",
    "import matplotlib.pyplot as plt\n",
    "import seaborn as sns\n",
    "from scipy import stats\n",
    "import numpy as np"
   ]
  },
  {
   "cell_type": "code",
   "execution_count": 2,
   "id": "b9bea37e",
   "metadata": {},
   "outputs": [
    {
     "data": {
      "text/html": [
       "<div>\n",
       "<style scoped>\n",
       "    .dataframe tbody tr th:only-of-type {\n",
       "        vertical-align: middle;\n",
       "    }\n",
       "\n",
       "    .dataframe tbody tr th {\n",
       "        vertical-align: top;\n",
       "    }\n",
       "\n",
       "    .dataframe thead th {\n",
       "        text-align: right;\n",
       "    }\n",
       "</style>\n",
       "<table border=\"1\" class=\"dataframe\">\n",
       "  <thead>\n",
       "    <tr style=\"text-align: right;\">\n",
       "      <th></th>\n",
       "      <th>Name of company</th>\n",
       "      <th>Measure X</th>\n",
       "      <th>Percentage</th>\n",
       "    </tr>\n",
       "  </thead>\n",
       "  <tbody>\n",
       "    <tr>\n",
       "      <th>0</th>\n",
       "      <td>Allied Signal</td>\n",
       "      <td>24.23%</td>\n",
       "      <td>0.2423</td>\n",
       "    </tr>\n",
       "    <tr>\n",
       "      <th>1</th>\n",
       "      <td>Bankers Trust</td>\n",
       "      <td>25.53%</td>\n",
       "      <td>0.2553</td>\n",
       "    </tr>\n",
       "    <tr>\n",
       "      <th>2</th>\n",
       "      <td>General Mills</td>\n",
       "      <td>25.41%</td>\n",
       "      <td>0.2541</td>\n",
       "    </tr>\n",
       "    <tr>\n",
       "      <th>3</th>\n",
       "      <td>ITT Industries</td>\n",
       "      <td>24.14%</td>\n",
       "      <td>0.2414</td>\n",
       "    </tr>\n",
       "    <tr>\n",
       "      <th>4</th>\n",
       "      <td>J.P.Morgan &amp; Co.</td>\n",
       "      <td>29.62%</td>\n",
       "      <td>0.2962</td>\n",
       "    </tr>\n",
       "    <tr>\n",
       "      <th>5</th>\n",
       "      <td>Lehman Brothers</td>\n",
       "      <td>28.25%</td>\n",
       "      <td>0.2825</td>\n",
       "    </tr>\n",
       "    <tr>\n",
       "      <th>6</th>\n",
       "      <td>Marriott</td>\n",
       "      <td>25.81%</td>\n",
       "      <td>0.2581</td>\n",
       "    </tr>\n",
       "    <tr>\n",
       "      <th>7</th>\n",
       "      <td>MCI</td>\n",
       "      <td>24.39%</td>\n",
       "      <td>0.2439</td>\n",
       "    </tr>\n",
       "    <tr>\n",
       "      <th>8</th>\n",
       "      <td>Merrill Lynch</td>\n",
       "      <td>40.26%</td>\n",
       "      <td>0.4026</td>\n",
       "    </tr>\n",
       "    <tr>\n",
       "      <th>9</th>\n",
       "      <td>Microsoft</td>\n",
       "      <td>32.95%</td>\n",
       "      <td>0.3295</td>\n",
       "    </tr>\n",
       "    <tr>\n",
       "      <th>10</th>\n",
       "      <td>Morgan Stanley</td>\n",
       "      <td>91.36%</td>\n",
       "      <td>0.9136</td>\n",
       "    </tr>\n",
       "    <tr>\n",
       "      <th>11</th>\n",
       "      <td>Sun Microsystems</td>\n",
       "      <td>25.99%</td>\n",
       "      <td>0.2599</td>\n",
       "    </tr>\n",
       "    <tr>\n",
       "      <th>12</th>\n",
       "      <td>Travelers</td>\n",
       "      <td>39.42%</td>\n",
       "      <td>0.3942</td>\n",
       "    </tr>\n",
       "    <tr>\n",
       "      <th>13</th>\n",
       "      <td>US Airways</td>\n",
       "      <td>26.71%</td>\n",
       "      <td>0.2671</td>\n",
       "    </tr>\n",
       "    <tr>\n",
       "      <th>14</th>\n",
       "      <td>Warner-Lambert</td>\n",
       "      <td>35.00%</td>\n",
       "      <td>0.3500</td>\n",
       "    </tr>\n",
       "  </tbody>\n",
       "</table>\n",
       "</div>"
      ],
      "text/plain": [
       "     Name of company Measure X  Percentage\n",
       "0      Allied Signal    24.23%      0.2423\n",
       "1      Bankers Trust    25.53%      0.2553\n",
       "2      General Mills    25.41%      0.2541\n",
       "3     ITT Industries    24.14%      0.2414\n",
       "4   J.P.Morgan & Co.    29.62%      0.2962\n",
       "5    Lehman Brothers    28.25%      0.2825\n",
       "6           Marriott    25.81%      0.2581\n",
       "7                MCI    24.39%      0.2439\n",
       "8      Merrill Lynch    40.26%      0.4026\n",
       "9          Microsoft    32.95%      0.3295\n",
       "10    Morgan Stanley    91.36%      0.9136\n",
       "11  Sun Microsystems    25.99%      0.2599\n",
       "12         Travelers    39.42%      0.3942\n",
       "13        US Airways    26.71%      0.2671\n",
       "14    Warner-Lambert    35.00%      0.3500"
      ]
     },
     "execution_count": 2,
     "metadata": {},
     "output_type": "execute_result"
    }
   ],
   "source": [
    "df=pd.read_csv(\"D:\\\\Data Science\\\\Basics 2.0\\\\Q2 (1).csv\")\n",
    "df"
   ]
  },
  {
   "cell_type": "code",
   "execution_count": 3,
   "id": "d0efae5f",
   "metadata": {},
   "outputs": [
    {
     "data": {
      "text/html": [
       "<div>\n",
       "<style scoped>\n",
       "    .dataframe tbody tr th:only-of-type {\n",
       "        vertical-align: middle;\n",
       "    }\n",
       "\n",
       "    .dataframe tbody tr th {\n",
       "        vertical-align: top;\n",
       "    }\n",
       "\n",
       "    .dataframe thead th {\n",
       "        text-align: right;\n",
       "    }\n",
       "</style>\n",
       "<table border=\"1\" class=\"dataframe\">\n",
       "  <thead>\n",
       "    <tr style=\"text-align: right;\">\n",
       "      <th></th>\n",
       "      <th>Percentage</th>\n",
       "    </tr>\n",
       "  </thead>\n",
       "  <tbody>\n",
       "    <tr>\n",
       "      <th>count</th>\n",
       "      <td>15.000000</td>\n",
       "    </tr>\n",
       "    <tr>\n",
       "      <th>mean</th>\n",
       "      <td>0.332713</td>\n",
       "    </tr>\n",
       "    <tr>\n",
       "      <th>std</th>\n",
       "      <td>0.169454</td>\n",
       "    </tr>\n",
       "    <tr>\n",
       "      <th>min</th>\n",
       "      <td>0.241400</td>\n",
       "    </tr>\n",
       "    <tr>\n",
       "      <th>25%</th>\n",
       "      <td>0.254700</td>\n",
       "    </tr>\n",
       "    <tr>\n",
       "      <th>50%</th>\n",
       "      <td>0.267100</td>\n",
       "    </tr>\n",
       "    <tr>\n",
       "      <th>75%</th>\n",
       "      <td>0.339750</td>\n",
       "    </tr>\n",
       "    <tr>\n",
       "      <th>max</th>\n",
       "      <td>0.913600</td>\n",
       "    </tr>\n",
       "  </tbody>\n",
       "</table>\n",
       "</div>"
      ],
      "text/plain": [
       "       Percentage\n",
       "count   15.000000\n",
       "mean     0.332713\n",
       "std      0.169454\n",
       "min      0.241400\n",
       "25%      0.254700\n",
       "50%      0.267100\n",
       "75%      0.339750\n",
       "max      0.913600"
      ]
     },
     "execution_count": 3,
     "metadata": {},
     "output_type": "execute_result"
    }
   ],
   "source": [
    "df.describe()"
   ]
  },
  {
   "cell_type": "code",
   "execution_count": 4,
   "id": "d271168b",
   "metadata": {},
   "outputs": [
    {
     "data": {
      "text/plain": [
       "Percentage    0.332713\n",
       "dtype: float64"
      ]
     },
     "execution_count": 4,
     "metadata": {},
     "output_type": "execute_result"
    }
   ],
   "source": [
    "df.mean()"
   ]
  },
  {
   "cell_type": "code",
   "execution_count": 5,
   "id": "8775fbdc",
   "metadata": {},
   "outputs": [
    {
     "data": {
      "text/plain": [
       "{'whiskers': [<matplotlib.lines.Line2D at 0xa142820>,\n",
       "  <matplotlib.lines.Line2D at 0xa142b80>],\n",
       " 'caps': [<matplotlib.lines.Line2D at 0xa142ee0>,\n",
       "  <matplotlib.lines.Line2D at 0xa159280>],\n",
       " 'boxes': [<matplotlib.lines.Line2D at 0xa1424c0>],\n",
       " 'medians': [<matplotlib.lines.Line2D at 0xa1595e0>],\n",
       " 'fliers': [<matplotlib.lines.Line2D at 0xa159940>],\n",
       " 'means': []}"
      ]
     },
     "execution_count": 5,
     "metadata": {},
     "output_type": "execute_result"
    },
    {
     "data": {
      "image/png": "[encoded data removed]",
      "text/plain": [
       "<Figure size 720x216 with 1 Axes>"
      ]
     },
     "metadata": {
      "needs_background": "light"
     },
     "output_type": "display_data"
    }
   ],
   "source": [
    "plt.figure(figsize = (10,3));\n",
    "plt.boxplot(df.Percentage, vert= False)"
   ]
  },
  {
   "cell_type": "code",
   "execution_count": 6,
   "id": "8a62fd54",
   "metadata": {},
   "outputs": [
    {
     "data": {
      "text/plain": [
       "Percentage    0.028715\n",
       "dtype: float64"
      ]
     },
     "execution_count": 6,
     "metadata": {},
     "output_type": "execute_result"
    }
   ],
   "source": [
    "df.var()"
   ]
  },
  {
   "cell_type": "markdown",
   "id": "a3653356",
   "metadata": {},
   "source": [
    "Assignment No.2(2)"
   ]
  },
  {
   "cell_type": "markdown",
   "id": "5a711fcf",
   "metadata": {},
   "source": [
    "Que No. 1"
   ]
  },
  {
   "cell_type": "code",
   "execution_count": 7,
   "id": "277b44c9",
   "metadata": {},
   "outputs": [
    {
     "data": {
      "text/plain": [
       "0.26598552904870054"
      ]
     },
     "execution_count": 7,
     "metadata": {},
     "output_type": "execute_result"
    }
   ],
   "source": [
    "p1=1-stats.norm.cdf(60,55,8)\n",
    "p1"
   ]
  },
  {
   "cell_type": "markdown",
   "id": "518b6fd6",
   "metadata": {},
   "source": [
    "Que No.2(a)"
   ]
  },
  {
   "cell_type": "code",
   "execution_count": 8,
   "id": "189d7581",
   "metadata": {},
   "outputs": [
    {
     "data": {
      "text/plain": [
       "0.15865525393145707"
      ]
     },
     "execution_count": 8,
     "metadata": {},
     "output_type": "execute_result"
    }
   ],
   "source": [
    "q1=1-stats.norm.cdf(44,38,6)  #µ = 44, σ = 6\n",
    "q1"
   ]
  },
  {
   "cell_type": "code",
   "execution_count": 9,
   "id": "2aadc415",
   "metadata": {},
   "outputs": [
    {
     "data": {
      "text/plain": [
       "0.5"
      ]
     },
     "execution_count": 9,
     "metadata": {},
     "output_type": "execute_result"
    }
   ],
   "source": [
    "q2=1-stats.norm.cdf(38,38,6)  #µ = 38, σ = 6\n",
    "q2"
   ]
  },
  {
   "cell_type": "code",
   "execution_count": 10,
   "id": "0ee6d797",
   "metadata": {},
   "outputs": [
    {
     "data": {
      "text/plain": [
       "0.3413447460685429"
      ]
     },
     "execution_count": 10,
     "metadata": {},
     "output_type": "execute_result"
    }
   ],
   "source": [
    "#The probability of employees aged between 38 to 44 will be\n",
    "q=q2-q1\n",
    "q"
   ]
  },
  {
   "cell_type": "markdown",
   "id": "93428dd4",
   "metadata": {},
   "source": [
    "Que No.2(b)"
   ]
  },
  {
   "cell_type": "code",
   "execution_count": 11,
   "id": "14765351",
   "metadata": {},
   "outputs": [
    {
     "data": {
      "text/plain": [
       "36.484487890347154"
      ]
     },
     "execution_count": 11,
     "metadata": {},
     "output_type": "execute_result"
    }
   ],
   "source": [
    "400*stats.norm.cdf(30,38,6) #N*P(X<30)"
   ]
  },
  {
   "cell_type": "markdown",
   "id": "e2093a67",
   "metadata": {},
   "source": [
    "Que No.4"
   ]
  },
  {
   "cell_type": "code",
   "execution_count": 12,
   "id": "2c8bfb07",
   "metadata": {},
   "outputs": [
    {
     "data": {
      "text/plain": [
       "(48.48341392902199, 151.516586070978)"
      ]
     },
     "execution_count": 12,
     "metadata": {},
     "output_type": "execute_result"
    }
   ],
   "source": [
    "stats.norm.interval(0.99,100,20)"
   ]
  },
  {
   "cell_type": "markdown",
   "id": "8b20188b",
   "metadata": {},
   "source": [
    "Que No.5(A)"
   ]
  },
  {
   "cell_type": "code",
   "execution_count": 13,
   "id": "cd544ef2",
   "metadata": {},
   "outputs": [],
   "source": [
    "#X ~ N(12, 5) #Add X1+X2 -->Convert $ into Rupees i.e. X*45 \n",
    "#X ~ N(540, 225) #Answer will be Rs. in Million "
   ]
  },
  {
   "cell_type": "code",
   "execution_count": 14,
   "id": "3b789ced",
   "metadata": {},
   "outputs": [
    {
     "name": "stdout",
     "output_type": "stream",
     "text": [
      "Range is Rs. (99.00810347848784, 980.9918965215122) Million\n"
     ]
    }
   ],
   "source": [
    "X1=stats.norm.interval(0.95,540,225)\n",
    "print('Range is Rs.',X1,'Million')"
   ]
  },
  {
   "cell_type": "markdown",
   "id": "44767e2a",
   "metadata": {},
   "source": [
    "Que No.5(B)"
   ]
  },
  {
   "cell_type": "code",
   "execution_count": 15,
   "id": "133b147c",
   "metadata": {},
   "outputs": [
    {
     "name": "stdout",
     "output_type": "stream",
     "text": [
      "5th percentile of profit is Rs. 170.0 Million\n"
     ]
    }
   ],
   "source": [
    "# To compute 5th Percentile, we use the formula X=μ + Zσ; wherein from z table, 5 percentile = -1.645\n",
    "X2= 540+(-1.645)*(225)\n",
    "print('5th percentile of profit is Rs.',np.round(X2),'Million')"
   ]
  },
  {
   "cell_type": "markdown",
   "id": "ae25c353",
   "metadata": {},
   "source": [
    "Que No.5(C)"
   ]
  },
  {
   "cell_type": "code",
   "execution_count": 16,
   "id": "504518cc",
   "metadata": {},
   "outputs": [
    {
     "data": {
      "text/plain": [
       "0.0477903522728147"
      ]
     },
     "execution_count": 16,
     "metadata": {},
     "output_type": "execute_result"
    }
   ],
   "source": [
    "# Probability of Division 1 making a loss P(X<0)\n",
    "stats.norm.cdf(0,5,3)"
   ]
  },
  {
   "cell_type": "code",
   "execution_count": 17,
   "id": "530af981",
   "metadata": {},
   "outputs": [
    {
     "data": {
      "text/plain": [
       "0.040059156863817086"
      ]
     },
     "execution_count": 17,
     "metadata": {},
     "output_type": "execute_result"
    }
   ],
   "source": [
    "# For Division 2\n",
    "stats.norm.cdf(0,7,4)"
   ]
  },
  {
   "cell_type": "raw",
   "id": "baa5a9f5",
   "metadata": {},
   "source": [
    "Inference: Probability of Division 1 making a loss in a given year is more than Division 2."
   ]
  },
  {
   "cell_type": "markdown",
   "id": "6061f917",
   "metadata": {},
   "source": [
    "Assignment No.2(3)"
   ]
  },
  {
   "cell_type": "markdown",
   "id": "eec4703f",
   "metadata": {},
   "source": [
    "Que No. 5"
   ]
  },
  {
   "cell_type": "code",
   "execution_count": 18,
   "id": "a63f25ff",
   "metadata": {},
   "outputs": [
    {
     "name": "stdout",
     "output_type": "stream",
     "text": [
      "Z-score is -0.8208\n"
     ]
    }
   ],
   "source": [
    "z=(0.046-0.05)/(np.sqrt((0.05*(1-0.05))/2000))\n",
    "print('Z-score is',np.round(z,4))"
   ]
  },
  {
   "cell_type": "code",
   "execution_count": 19,
   "id": "79119c73",
   "metadata": {},
   "outputs": [
    {
     "data": {
      "text/plain": [
       "0.20588503245107104"
      ]
     },
     "execution_count": 19,
     "metadata": {},
     "output_type": "execute_result"
    }
   ],
   "source": [
    "p=stats.norm.cdf(z) #α = 0.05\n",
    "p                   #Assuming null hyposthesis, compare with Type-1 error"
   ]
  },
  {
   "cell_type": "markdown",
   "id": "3b144ed1",
   "metadata": {},
   "source": [
    "Que No. 8"
   ]
  },
  {
   "cell_type": "code",
   "execution_count": 20,
   "id": "b9c95986",
   "metadata": {},
   "outputs": [
    {
     "data": {
      "text/plain": [
       "1.959963984540054"
      ]
     },
     "execution_count": 20,
     "metadata": {},
     "output_type": "execute_result"
    }
   ],
   "source": [
    "stats.norm.ppf(0.975)"
   ]
  },
  {
   "cell_type": "code",
   "execution_count": 21,
   "id": "04ed4cf4",
   "metadata": {},
   "outputs": [
    {
     "data": {
      "text/plain": [
       "600.2499999999999"
      ]
     },
     "execution_count": 21,
     "metadata": {},
     "output_type": "execute_result"
    }
   ],
   "source": [
    "n= ((1.96**2)*(0.5**2))/0.04**2\n",
    "n"
   ]
  },
  {
   "cell_type": "markdown",
   "id": "f7ff180c",
   "metadata": {},
   "source": [
    "Que No. 9"
   ]
  },
  {
   "cell_type": "code",
   "execution_count": 22,
   "id": "8523389b",
   "metadata": {},
   "outputs": [
    {
     "data": {
      "text/plain": [
       "2.3263478740408408"
      ]
     },
     "execution_count": 22,
     "metadata": {},
     "output_type": "execute_result"
    }
   ],
   "source": [
    "stats.norm.ppf(0.99)"
   ]
  },
  {
   "cell_type": "code",
   "execution_count": 23,
   "id": "d0b26bb8",
   "metadata": {},
   "outputs": [
    {
     "data": {
      "text/plain": [
       "845.355625"
      ]
     },
     "execution_count": 23,
     "metadata": {},
     "output_type": "execute_result"
    }
   ],
   "source": [
    "m= ((2.326**2)*(0.5**2))/0.04**2\n",
    "m"
   ]
  },
  {
   "cell_type": "markdown",
   "id": "7e238725",
   "metadata": {},
   "source": [
    "Assignment No.2(4)"
   ]
  },
  {
   "cell_type": "markdown",
   "id": "2e2d3c3d",
   "metadata": {},
   "source": [
    "Que No.3"
   ]
  },
  {
   "cell_type": "code",
   "execution_count": 42,
   "id": "e7716114",
   "metadata": {},
   "outputs": [
    {
     "data": {
      "text/plain": [
       "0.4502617751698871"
      ]
     },
     "execution_count": 42,
     "metadata": {},
     "output_type": "execute_result"
    }
   ],
   "source": [
    "c1=stats.norm.cdf(45,50,40)\n",
    "c1"
   ]
  },
  {
   "cell_type": "code",
   "execution_count": 43,
   "id": "36bbb8d5",
   "metadata": {},
   "outputs": [
    {
     "data": {
      "text/plain": [
       "0.5497382248301129"
      ]
     },
     "execution_count": 43,
     "metadata": {},
     "output_type": "execute_result"
    }
   ],
   "source": [
    "c2=stats.norm.cdf(55,50,40)\n",
    "c2"
   ]
  },
  {
   "cell_type": "code",
   "execution_count": 44,
   "id": "20574991",
   "metadata": {},
   "outputs": [
    {
     "data": {
      "text/plain": [
       "0.09947644966022584"
      ]
     },
     "execution_count": 44,
     "metadata": {},
     "output_type": "execute_result"
    }
   ],
   "source": [
    "c=c2-c1\n",
    "c"
   ]
  },
  {
   "cell_type": "code",
   "execution_count": 46,
   "id": "f785e525",
   "metadata": {},
   "outputs": [
    {
     "data": {
      "text/plain": [
       "(45.0, 55.0)"
      ]
     },
     "execution_count": 46,
     "metadata": {},
     "output_type": "execute_result"
    }
   ],
   "source": [
    "stats.norm.interval(c,50,40)"
   ]
  },
  {
   "cell_type": "code",
   "execution_count": null,
   "id": "c70dd389",
   "metadata": {},
   "outputs": [],
   "source": []
  }
 ],
 "metadata": {
  "kernelspec": {
   "display_name": "Python 3",
   "language": "python",
   "name": "python3"
  },
  "language_info": {
   "codemirror_mode": {
    "name": "ipython",
    "version": 3
   },
   "file_extension": ".py",
   "mimetype": "text/x-python",
   "name": "python",
   "nbconvert_exporter": "python",
   "pygments_lexer": "ipython3",
   "version": "3.8.8"
  }
 },
 "nbformat": 4,
 "nbformat_minor": 5
}
